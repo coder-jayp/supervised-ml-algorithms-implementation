{
 "cells": [
  {
   "cell_type": "markdown",
   "id": "4e7cbf2b",
   "metadata": {},
   "source": [
    "# Logistic Regression on Titanic Dataset\n",
    "\n",
    "**Key Steps:**\n",
    "1. Data Loading\n",
    "2. Data Exploration\n",
    "3. Data Preprocessing\n",
    "4. Train-Test Split\n",
    "5. Model Training\n",
    "6. Model Evaluation\n",
    "7. Visualization"
   ]
  },
  {
   "cell_type": "code",
   "execution_count": 2,
   "id": "36f9d8f2",
   "metadata": {},
   "outputs": [],
   "source": [
    "import pandas as pd\n",
    "import numpy as np\n",
    "import matplotlib.pyplot as plt\n",
    "import seaborn as sns\n",
    "from sklearn.model_selection import train_test_split\n",
    "from sklearn.preprocessing import StandardScaler, LabelEncoder\n",
    "from sklearn.linear_model import LogisticRegression\n",
    "from sklearn.metrics import accuracy_score, confusion_matrix, classification_report, roc_auc_score, roc_curve\n",
    "import warnings\n",
    "warnings.filterwarnings('ignore')"
   ]
  },
  {
   "cell_type": "markdown",
   "id": "0c57ebde",
   "metadata": {},
   "source": [
    "## 1️⃣ Load Dataset"
   ]
  },
  {
   "cell_type": "code",
   "execution_count": null,
   "id": "260b6f70",
   "metadata": {},
   "outputs": [],
   "source": []
  }
 ],
 "metadata": {
  "kernelspec": {
   "display_name": "Python 3",
   "language": "python",
   "name": "python3"
  },
  "language_info": {
   "codemirror_mode": {
    "name": "ipython",
    "version": 3
   },
   "file_extension": ".py",
   "mimetype": "text/x-python",
   "name": "python",
   "nbconvert_exporter": "python",
   "pygments_lexer": "ipython3",
   "version": "3.12.5"
  }
 },
 "nbformat": 4,
 "nbformat_minor": 5
}
