{
 "cells": [
  {
   "cell_type": "code",
   "execution_count": 7,
   "id": "28aca601",
   "metadata": {},
   "outputs": [],
   "source": [
    "import numpy as np"
   ]
  },
  {
   "cell_type": "code",
   "execution_count": 8,
   "id": "6b6c20f1",
   "metadata": {},
   "outputs": [],
   "source": [
    "np.random.seed(42)"
   ]
  },
  {
   "cell_type": "code",
   "execution_count": 9,
   "id": "deed7d0d",
   "metadata": {},
   "outputs": [],
   "source": [
    "X = np.array([\n",
    "[150, 50], [160, 60], [170, 65], [180, 80], [190, 90], \n",
    "[155, 70], [165, 75], [175, 85], [185, 95], [195, 100] \n",
    "])"
   ]
  },
  {
   "cell_type": "code",
   "execution_count": 10,
   "id": "6c36a942",
   "metadata": {},
   "outputs": [],
   "source": [
    "y = np.array([0, 0, 0, 0, 0, 1, 1, 1, 1, 1])"
   ]
  },
  {
   "cell_type": "code",
   "execution_count": 11,
   "id": "1bd2728b",
   "metadata": {},
   "outputs": [],
   "source": [
    "def gini_impurity(y):\n",
    "    classes, counts = np.unique(y, return_counts=True)\n",
    "    probs = counts / counts.sum()\n",
    "    return 1 - np.sum(probs ** 2)"
   ]
  },
  {
   "cell_type": "code",
   "execution_count": 12,
   "id": "fe9f9baa",
   "metadata": {},
   "outputs": [],
   "source": [
    "def split_dataset(X, y, feature_idx, threshold):\n",
    "    left_mask = X[:, feature_idx] <= threshold\n",
    "    right_mask = ~left_mask\n",
    "    return X[left_mask], y[left_mask], X[right_mask], y[right_mask]"
   ]
  },
  {
   "cell_type": "code",
   "execution_count": 13,
   "id": "d97ec45f",
   "metadata": {},
   "outputs": [],
   "source": [
    "class DecisionTreeNode:\n",
    "    def __init__(self, feature_idx=None, threshold=None, left=None, right=None, value=None):\n",
    "        self.feature_idx = feature_idx\n",
    "        self.threshold = threshold\n",
    "        self.left = left\n",
    "        self.right = right\n",
    "        self.value = value"
   ]
  },
  {
   "cell_type": "code",
   "execution_count": 14,
   "id": "3905a0eb",
   "metadata": {},
   "outputs": [],
   "source": [
    "class DecisionTree:\n",
    "    def __init__(self, max_depth=3):\n",
    "        self.max_depth = max_depth\n",
    "        self.root = None\n",
    "\n",
    "    def build_tree(self, X, y, depth=0):\n",
    "        if len(np.unique(y)) == 1 or depth >= self.max_depth:\n",
    "            leaf_value = np.bincount(y).argmax()\n",
    "            return DecisionTreeNode(value=leaf_value)\n",
    "\n",
    "        best_gini = 1.0\n",
    "        best_feature, best_threshold = None, None\n",
    "        for feature_idx in range(X.shape[1]):\n",
    "            thresholds = np.unique(X[:, feature_idx])\n",
    "            for t in thresholds:\n",
    "                _, y_left, _, y_right = split_dataset(X, y, feature_idx, t)\n",
    "                if len(y_left) == 0 or len(y_right) == 0:\n",
    "                    continue\n",
    "                gini = (len(y_left)/len(y))*gini_impurity(y_left) + (len(y_right)/len(y))*gini_impurity(y_right)\n",
    "                if gini < best_gini:\n",
    "                    best_gini = gini\n",
    "                    best_feature = feature_idx\n",
    "                    best_threshold = t\n",
    "\n",
    "        if best_feature is None:\n",
    "            leaf_value = np.bincount(y).argmax()\n",
    "            return DecisionTreeNode(value=leaf_value)\n",
    "\n",
    "        X_left, y_left, X_right, y_right = split_dataset(X, y, best_feature, best_threshold)\n",
    "        left_child = self.build_tree(X_left, y_left, depth+1)\n",
    "        right_child = self.build_tree(X_right, y_right, depth+1)\n",
    "        return DecisionTreeNode(best_feature, best_threshold, left_child, right_child)\n",
    "\n",
    "    def fit(self, X, y):\n",
    "        self.root = self.build_tree(X, y)\n",
    "\n",
    "    def predict_one(self, x, node):\n",
    "        if node.value is not None:\n",
    "            return node.value\n",
    "        if x[node.feature_idx] <= node.threshold:\n",
    "            return self.predict_one(x, node.left)\n",
    "        else:\n",
    "            return self.predict_one(x, node.right)\n",
    "\n",
    "    def predict(self, X):\n",
    "        return np.array([self.predict_one(sample, self.root) for sample in X])"
   ]
  },
  {
   "cell_type": "code",
   "execution_count": 15,
   "id": "6acbe5ad",
   "metadata": {},
   "outputs": [
    {
     "name": "stdout",
     "output_type": "stream",
     "text": [
      "Predictions: [0 0 0 0 0 1 1 1 1 1]\n",
      "Actual:      [0 0 0 0 0 1 1 1 1 1]\n",
      "Accuracy:    1.0\n"
     ]
    }
   ],
   "source": [
    "tree = DecisionTree(max_depth=3)\n",
    "tree.fit(X, y)\n",
    "\n",
    "preds = tree.predict(X)\n",
    "print(\"Predictions:\", preds)\n",
    "print(\"Actual:     \", y)\n",
    "print(\"Accuracy:   \", np.mean(preds == y))"
   ]
  }
 ],
 "metadata": {
  "kernelspec": {
   "display_name": "Python 3",
   "language": "python",
   "name": "python3"
  },
  "language_info": {
   "codemirror_mode": {
    "name": "ipython",
    "version": 3
   },
   "file_extension": ".py",
   "mimetype": "text/x-python",
   "name": "python",
   "nbconvert_exporter": "python",
   "pygments_lexer": "ipython3",
   "version": "3.12.5"
  }
 },
 "nbformat": 4,
 "nbformat_minor": 5
}
